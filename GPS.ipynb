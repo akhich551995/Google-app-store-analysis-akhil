{
  "nbformat": 4,
  "nbformat_minor": 0,
  "metadata": {
    "colab": {
      "name": "GPS.ipynb",
      "provenance": [],
      "collapsed_sections": [],
      "mount_file_id": "1Oxyt_2GvbsIMZ0g4kC4JLWmXWvNRkkdC",
      "authorship_tag": "ABX9TyOp62loy5eBxK2TQTMgjv7g",
      "include_colab_link": true
    },
    "kernelspec": {
      "name": "python3",
      "display_name": "Python 3"
    }
  },
  "cells": [
    {
      "cell_type": "markdown",
      "metadata": {
        "id": "view-in-github",
        "colab_type": "text"
      },
      "source": [
        "<a href=\"https://colab.research.google.com/github/akhich551995/my_first_repository-akhil/blob/master/GPS.ipynb\" target=\"_parent\"><img src=\"https://colab.research.google.com/assets/colab-badge.svg\" alt=\"Open In Colab\"/></a>"
      ]
    },
    {
      "cell_type": "code",
      "metadata": {
        "id": "xkK_bx12HfDa",
        "colab_type": "code",
        "colab": {}
      },
      "source": [
        "import numpy as np\n",
        "import pandas as pd\n",
        "import matplotlib.pyplot as plt\n",
        "import seaborn as sns\n"
      ],
      "execution_count": 95,
      "outputs": []
    },
    {
      "cell_type": "code",
      "metadata": {
        "id": "3PeSxkJyKad4",
        "colab_type": "code",
        "colab": {}
      },
      "source": [
        "gps= pd.read_csv('/content/drive/My Drive/Colab Notebooks/google play store/googleplaystore.csv')\n"
      ],
      "execution_count": 96,
      "outputs": []
    },
    {
      "cell_type": "code",
      "metadata": {
        "id": "TvQczZEXKwDX",
        "colab_type": "code",
        "colab": {
          "base_uri": "https://localhost:8080/",
          "height": 357
        },
        "outputId": "e82b3ad6-ece3-42f6-a265-52dfec7b3161"
      },
      "source": [
        "#gps.describe()\n",
        "#gps.columns\n",
        "#gps.head(5)\n",
        "#gps.tail(5)\n",
        "gps.info()\n",
        "#gps.shape"
      ],
      "execution_count": 97,
      "outputs": [
        {
          "output_type": "stream",
          "text": [
            "<class 'pandas.core.frame.DataFrame'>\n",
            "RangeIndex: 10841 entries, 0 to 10840\n",
            "Data columns (total 13 columns):\n",
            " #   Column          Non-Null Count  Dtype  \n",
            "---  ------          --------------  -----  \n",
            " 0   App             10841 non-null  object \n",
            " 1   Category        10841 non-null  object \n",
            " 2   Rating          9367 non-null   float64\n",
            " 3   Reviews         10841 non-null  object \n",
            " 4   Size            10841 non-null  object \n",
            " 5   Installs        10841 non-null  object \n",
            " 6   Type            10840 non-null  object \n",
            " 7   Price           10841 non-null  object \n",
            " 8   Content Rating  10840 non-null  object \n",
            " 9   Genres          10841 non-null  object \n",
            " 10  Last Updated    10841 non-null  object \n",
            " 11  Current Ver     10833 non-null  object \n",
            " 12  Android Ver     10838 non-null  object \n",
            "dtypes: float64(1), object(12)\n",
            "memory usage: 1.1+ MB\n"
          ],
          "name": "stdout"
        }
      ]
    },
    {
      "cell_type": "markdown",
      "metadata": {
        "id": "oSYpaoHWMwhu",
        "colab_type": "text"
      },
      "source": [
        "Google play store data has 13 columns with dtypes:float64(1), object(12)\n",
        "dimension of the data is 10841*13\n",
        "\n",
        "\n",
        "\n",
        "1.   Apps are divided into different categories\n",
        "2.   we have multiple columns containing numeric data, they have non numeric data type. this causes problems with data processing.\n",
        "\n",
        "\n"
      ]
    },
    {
      "cell_type": "markdown",
      "metadata": {
        "id": "S87RsqrqOk6h",
        "colab_type": "text"
      },
      "source": [
        "# Data Preprocessing\n"
      ]
    },
    {
      "cell_type": "markdown",
      "metadata": {
        "id": "69-RXYkLTEnv",
        "colab_type": "text"
      },
      "source": [
        "Lets find out no of unique apps and unique categories in the data set."
      ]
    },
    {
      "cell_type": "code",
      "metadata": {
        "id": "N6MH3j_KMhk_",
        "colab_type": "code",
        "colab": {
          "base_uri": "https://localhost:8080/",
          "height": 34
        },
        "outputId": "ec20f47d-96b5-417d-c742-492379cc3318"
      },
      "source": [
        "unique_apps= len(gps[\"App\"].unique())\n",
        "unique_cat= len(gps[\"Category\"].unique())\n",
        "print(unique_apps,unique_cat)"
      ],
      "execution_count": 101,
      "outputs": [
        {
          "output_type": "stream",
          "text": [
            "9660 34\n"
          ],
          "name": "stdout"
        }
      ]
    },
    {
      "cell_type": "markdown",
      "metadata": {
        "id": "wuxLbuerUVV4",
        "colab_type": "text"
      },
      "source": [
        "so we have 9660 unique apps which are of 34 different categories.\n",
        "\n",
        "\n"
      ]
    },
    {
      "cell_type": "code",
      "metadata": {
        "id": "2vxYEOBPUikc",
        "colab_type": "code",
        "colab": {
          "base_uri": "https://localhost:8080/",
          "height": 34
        },
        "outputId": "550bb59a-bf9e-4b5f-ec93-cc9b573c3690"
      },
      "source": [
        "gps.drop_duplicates(inplace=True)\n",
        "gps.shape"
      ],
      "execution_count": 102,
      "outputs": [
        {
          "output_type": "execute_result",
          "data": {
            "text/plain": [
              "(10358, 13)"
            ]
          },
          "metadata": {
            "tags": []
          },
          "execution_count": 102
        }
      ]
    },
    {
      "cell_type": "code",
      "metadata": {
        "id": "gk4aO5gAZMkq",
        "colab_type": "code",
        "colab": {
          "base_uri": "https://localhost:8080/",
          "height": 255
        },
        "outputId": "d39ae069-5930-43de-c7ec-766864ac7d64"
      },
      "source": [
        "gps.isnull().sum()"
      ],
      "execution_count": 103,
      "outputs": [
        {
          "output_type": "execute_result",
          "data": {
            "text/plain": [
              "App                  0\n",
              "Category             0\n",
              "Rating            1465\n",
              "Reviews              0\n",
              "Size                 0\n",
              "Installs             0\n",
              "Type                 1\n",
              "Price                0\n",
              "Content Rating       1\n",
              "Genres               0\n",
              "Last Updated         0\n",
              "Current Ver          8\n",
              "Android Ver          3\n",
              "dtype: int64"
            ]
          },
          "metadata": {
            "tags": []
          },
          "execution_count": 103
        }
      ]
    },
    {
      "cell_type": "markdown",
      "metadata": {
        "id": "MOKgSlagZ3hn",
        "colab_type": "text"
      },
      "source": [
        "We found 1465 apps doesnt have rating or have NA value. Only rating has major misisng data and type,content_rating and versions have very few missing values. So now we can use simple imputer to replace NaN values for rating column and lets drop all other rows which has NaN values"
      ]
    },
    {
      "cell_type": "code",
      "metadata": {
        "id": "Mu6OyZqPZ1VV",
        "colab_type": "code",
        "colab": {}
      },
      "source": [
        "from sklearn.impute import SimpleImputer\n",
        "\n",
        "imputer=SimpleImputer()\n",
        "\n",
        "gps['Rating']=imputer.fit_transform(gps[['Rating']])\n",
        "print(gps.isnull().sum())\n",
        "\n",
        "print(\" lets round the rating column upto one decimal\")\n",
        "gps['Rating']=gps['Rating'].round(1)\n",
        "gps['Rating']\n"
      ],
      "execution_count": null,
      "outputs": []
    },
    {
      "cell_type": "markdown",
      "metadata": {
        "id": "_L_4cpj2CfJQ",
        "colab_type": "text"
      },
      "source": [
        "Now Rating column has no more empty values. Let us drop all other emtpy value rows in the data."
      ]
    },
    {
      "cell_type": "code",
      "metadata": {
        "id": "zv-lcWfACX5Z",
        "colab_type": "code",
        "colab": {}
      },
      "source": [
        "gps.dropna(inplace=True)\n",
        "print(gps.isnull().sum())\n",
        "print(gps.shape)"
      ],
      "execution_count": null,
      "outputs": []
    },
    {
      "cell_type": "markdown",
      "metadata": {
        "id": "C-VYpZT6DH2Y",
        "colab_type": "text"
      },
      "source": [
        "Now let us consider the data types of different columns. \n"
      ]
    },
    {
      "cell_type": "code",
      "metadata": {
        "id": "RXEpEBbkDelE",
        "colab_type": "code",
        "colab": {}
      },
      "source": [
        "gps.head(5)\n",
        "\n",
        "print(gps['Content Rating'].unique())\n",
        "print(gps['Type'].unique())"
      ],
      "execution_count": null,
      "outputs": []
    },
    {
      "cell_type": "code",
      "metadata": {
        "id": "UYopsYdvGRoZ",
        "colab_type": "code",
        "colab": {}
      },
      "source": [
        "# Data cleaning for size column\n",
        "\n",
        "#removing m from size column\n",
        "gps['Size'] = gps['Size'].map(lambda x: x.rstrip('M'))\n",
        "gps['Size'] = gps['Size'].map(lambda x: str(round((float(x.rstrip('k'))/1024), 1)) if x[-1]=='k' else x)\n",
        "\n",
        "#data has values 'Varies with device' so changing this value into '0'.\n",
        "gps.loc[gps['Size']=='Varies with device','Size']=0"
      ],
      "execution_count": 107,
      "outputs": []
    },
    {
      "cell_type": "code",
      "metadata": {
        "id": "8G7NRnO9B0O4",
        "colab_type": "code",
        "colab": {}
      },
      "source": [
        "# Data cleaning for Installs column\n",
        "\n",
        "#removing '+' value from installs column\n",
        "gps['Installs']= gps['Installs'].map(lambda x: x.rstrip('+'))\n",
        "#removing ',' value from installs column\n",
        "gps['Installs']=gps['Installs'].map(lambda x:''.join(x.split(',')))"
      ],
      "execution_count": 108,
      "outputs": []
    },
    {
      "cell_type": "code",
      "metadata": {
        "id": "e8bqBNBjFDDm",
        "colab_type": "code",
        "colab": {}
      },
      "source": [
        "#Data cleaning for \"Price\" column\n",
        "gps['Price']= gps['Price'].map(lambda x: x.strip('$'))"
      ],
      "execution_count": 109,
      "outputs": []
    },
    {
      "cell_type": "code",
      "metadata": {
        "id": "UP8_HA2fOQnZ",
        "colab_type": "code",
        "colab": {}
      },
      "source": [
        "gps['Price']= pd.to_numeric(gps['Price'])\n",
        "gps['Installs']=pd.to_numeric(gps['Installs'])\n",
        "gps['Size']=pd.to_numeric(gps['Size'])"
      ],
      "execution_count": 110,
      "outputs": []
    },
    {
      "cell_type": "markdown",
      "metadata": {
        "id": "ZvoTT7zyfBMr",
        "colab_type": "text"
      },
      "source": [
        ""
      ]
    },
    {
      "cell_type": "code",
      "metadata": {
        "id": "B0hHZeDVUHdk",
        "colab_type": "code",
        "colab": {}
      },
      "source": [
        "from sklearn.preprocessing import LabelEncoder\n",
        "\n",
        "le=LabelEncoder()\n",
        "\n",
        "#creating numeric content for content rating column\n",
        "\n",
        "gps['Content Rating num']= le.fit_transform(gps['Content Rating'])\n",
        "\n",
        "dict_Content_Rating = {}\n",
        "val = 0\n",
        "for i in gps[\"Content Rating\"].unique():\n",
        " dict_Content_Rating[i] = val\n",
        " val += 1\n",
        "\n",
        "dict_Content_Rating"
      ],
      "execution_count": null,
      "outputs": []
    },
    {
      "cell_type": "code",
      "metadata": {
        "id": "rnEohlq9ijQy",
        "colab_type": "code",
        "colab": {}
      },
      "source": [
        "#creating numeric content for category column\n",
        "\n",
        "gps['Category Num']= le.fit_transform(gps['Category'])\n",
        "\n",
        "dict_Category = {}\n",
        "val = 0\n",
        "for i in gps[\"Category\"].unique():\n",
        " dict_Category[i] = val\n",
        " val += 1\n",
        "\n",
        "dict_Category"
      ],
      "execution_count": null,
      "outputs": []
    },
    {
      "cell_type": "markdown",
      "metadata": {
        "id": "AG2H3GKIj-oh",
        "colab_type": "text"
      },
      "source": [
        "#Data Analysis"
      ]
    },
    {
      "cell_type": "markdown",
      "metadata": {
        "id": "hftCERhMopuB",
        "colab_type": "text"
      },
      "source": [
        "Now we can start analysis by plotting multiple plots\n"
      ]
    },
    {
      "cell_type": "code",
      "metadata": {
        "id": "ScVA0U_Co6bf",
        "colab_type": "code",
        "colab": {
          "base_uri": "https://localhost:8080/",
          "height": 595
        },
        "outputId": "7a69a4ab-87d8-476c-f000-3c23c8506d89"
      },
      "source": [
        "gps.Category.value_counts()"
      ],
      "execution_count": 125,
      "outputs": [
        {
          "output_type": "execute_result",
          "data": {
            "text/plain": [
              "FAMILY                 1939\n",
              "GAME                   1121\n",
              "TOOLS                   841\n",
              "BUSINESS                427\n",
              "MEDICAL                 408\n",
              "PRODUCTIVITY            407\n",
              "PERSONALIZATION         386\n",
              "LIFESTYLE               373\n",
              "COMMUNICATION           366\n",
              "FINANCE                 360\n",
              "SPORTS                  351\n",
              "PHOTOGRAPHY             322\n",
              "HEALTH_AND_FITNESS      306\n",
              "SOCIAL                  280\n",
              "NEWS_AND_MAGAZINES      264\n",
              "TRAVEL_AND_LOCAL        237\n",
              "BOOKS_AND_REFERENCE     229\n",
              "SHOPPING                224\n",
              "DATING                  196\n",
              "VIDEO_PLAYERS           175\n",
              "MAPS_AND_NAVIGATION     137\n",
              "EDUCATION               130\n",
              "FOOD_AND_DRINK          124\n",
              "ENTERTAINMENT           111\n",
              "AUTO_AND_VEHICLES        85\n",
              "LIBRARIES_AND_DEMO       84\n",
              "WEATHER                  82\n",
              "HOUSE_AND_HOME           80\n",
              "EVENTS                   64\n",
              "ART_AND_DESIGN           64\n",
              "PARENTING                60\n",
              "COMICS                   60\n",
              "BEAUTY                   53\n",
              "Name: Category, dtype: int64"
            ]
          },
          "metadata": {
            "tags": []
          },
          "execution_count": 125
        }
      ]
    },
    {
      "cell_type": "code",
      "metadata": {
        "id": "pA7z3kKUkneg",
        "colab_type": "code",
        "colab": {
          "base_uri": "https://localhost:8080/",
          "height": 616
        },
        "outputId": "0b2f2643-8dab-49c7-e6ad-59f34e9e7b15"
      },
      "source": [
        "gps.Category.value_counts().plot(kind='bar' ,figsize= (12,8))"
      ],
      "execution_count": 124,
      "outputs": [
        {
          "output_type": "execute_result",
          "data": {
            "text/plain": [
              "<matplotlib.axes._subplots.AxesSubplot at 0x7fd171512ef0>"
            ]
          },
          "metadata": {
            "tags": []
          },
          "execution_count": 124
        },
        {
          "output_type": "display_data",
          "data": {
            "image/png": "[encoded data removed]",
            "text/plain": [
              "<Figure size 864x576 with 1 Axes>"
            ]
          },
          "metadata": {
            "tags": [],
            "needs_background": "light"
          }
        }
      ]
    },
    {
      "cell_type": "code",
      "metadata": {
        "id": "han1KifplG84",
        "colab_type": "code",
        "colab": {
          "base_uri": "https://localhost:8080/",
          "height": 296
        },
        "outputId": "1d624774-25c2-4311-bdb0-35a3aa150dfa"
      },
      "source": [
        "sns.distplot(gps.Rating,color=('red'))\n",
        "\n",
        "np.median(gps.Rating)"
      ],
      "execution_count": 123,
      "outputs": [
        {
          "output_type": "execute_result",
          "data": {
            "text/plain": [
              "4.2"
            ]
          },
          "metadata": {
            "tags": []
          },
          "execution_count": 123
        },
        {
          "output_type": "display_data",
          "data": {
            "image/png": "[encoded data removed]",
            "text/plain": [
              "<Figure size 432x288 with 1 Axes>"
            ]
          },
          "metadata": {
            "tags": [],
            "needs_background": "light"
          }
        }
      ]
    }
  ]
}