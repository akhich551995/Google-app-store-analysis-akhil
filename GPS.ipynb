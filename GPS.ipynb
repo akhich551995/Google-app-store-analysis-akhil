{
  "nbformat": 4,
  "nbformat_minor": 0,
  "metadata": {
    "colab": {
      "name": "GPS.ipynb",
      "provenance": [],
      "collapsed_sections": [],
      "toc_visible": true,
      "mount_file_id": "1Oxyt_2GvbsIMZ0g4kC4JLWmXWvNRkkdC",
      "authorship_tag": "ABX9TyOoOo8OZG8mhZQVcvD9XZq/",
      "include_colab_link": true
    },
    "kernelspec": {
      "name": "python3",
      "display_name": "Python 3"
    }
  },
  "cells": [
    {
      "cell_type": "markdown",
      "metadata": {
        "id": "view-in-github",
        "colab_type": "text"
      },
      "source": [
        "<a href=\"https://colab.research.google.com/github/akhich551995/my_first_repository-akhil/blob/master/GPS.ipynb\" target=\"_parent\"><img src=\"https://colab.research.google.com/assets/colab-badge.svg\" alt=\"Open In Colab\"/></a>"
      ]
    },
    {
      "cell_type": "code",
      "metadata": {
        "id": "xkK_bx12HfDa",
        "colab_type": "code",
        "colab": {
          "base_uri": "https://localhost:8080/",
          "height": 51
        },
        "outputId": "774ec3ac-cbe9-46e8-9de8-a9f847f3c335"
      },
      "source": [
        "import numpy as np\n",
        "import pandas as pd\n",
        "import matplotlib.pyplot as plt\n",
        "import seaborn as sns\n"
      ],
      "execution_count": null,
      "outputs": [
        {
          "output_type": "stream",
          "text": [
            "/usr/local/lib/python3.6/dist-packages/statsmodels/tools/_testing.py:19: FutureWarning: pandas.util.testing is deprecated. Use the functions in the public API at pandas.testing instead.\n",
            "  import pandas.util.testing as tm\n"
          ],
          "name": "stderr"
        }
      ]
    },
    {
      "cell_type": "code",
      "metadata": {
        "id": "3PeSxkJyKad4",
        "colab_type": "code",
        "colab": {}
      },
      "source": [
        "gps= pd.read_csv('/content/drive/My Drive/Colab Notebooks/google play store/googleplaystore.csv')\n"
      ],
      "execution_count": null,
      "outputs": []
    },
    {
      "cell_type": "code",
      "metadata": {
        "id": "TvQczZEXKwDX",
        "colab_type": "code",
        "colab": {
          "base_uri": "https://localhost:8080/",
          "height": 357
        },
        "outputId": "4c50efc0-faa2-49c1-f944-16572dbe5b6d"
      },
      "source": [
        "#gps.describe()\n",
        "#gps.columns\n",
        "#gps.head(5)\n",
        "#gps.tail(5)\n",
        "gps.info()\n",
        "#gps.shape"
      ],
      "execution_count": null,
      "outputs": [
        {
          "output_type": "stream",
          "text": [
            "<class 'pandas.core.frame.DataFrame'>\n",
            "RangeIndex: 10841 entries, 0 to 10840\n",
            "Data columns (total 13 columns):\n",
            " #   Column          Non-Null Count  Dtype  \n",
            "---  ------          --------------  -----  \n",
            " 0   App             10841 non-null  object \n",
            " 1   Category        10841 non-null  object \n",
            " 2   Rating          9367 non-null   float64\n",
            " 3   Reviews         10841 non-null  object \n",
            " 4   Size            10841 non-null  object \n",
            " 5   Installs        10841 non-null  object \n",
            " 6   Type            10840 non-null  object \n",
            " 7   Price           10841 non-null  object \n",
            " 8   Content Rating  10840 non-null  object \n",
            " 9   Genres          10841 non-null  object \n",
            " 10  Last Updated    10841 non-null  object \n",
            " 11  Current Ver     10833 non-null  object \n",
            " 12  Android Ver     10838 non-null  object \n",
            "dtypes: float64(1), object(12)\n",
            "memory usage: 1.1+ MB\n"
          ],
          "name": "stdout"
        }
      ]
    },
    {
      "cell_type": "markdown",
      "metadata": {
        "id": "oSYpaoHWMwhu",
        "colab_type": "text"
      },
      "source": [
        "Google play store data has 13 columns with dtypes:float64(1), object(12)\n",
        "dimension of the data is 10841*13\n",
        "\n",
        "\n",
        "\n",
        "1.   Apps are divided into different categories\n",
        "2.   we have multiple columns containing numeric data, they have non numeric data type. this causes problems with data processing.\n",
        "\n",
        "\n"
      ]
    },
    {
      "cell_type": "markdown",
      "metadata": {
        "id": "S87RsqrqOk6h",
        "colab_type": "text"
      },
      "source": [
        "# Data Preprocessing\n"
      ]
    },
    {
      "cell_type": "markdown",
      "metadata": {
        "id": "69-RXYkLTEnv",
        "colab_type": "text"
      },
      "source": [
        "Lets find out no of unique apps and unique categories in the data set."
      ]
    },
    {
      "cell_type": "code",
      "metadata": {
        "id": "N6MH3j_KMhk_",
        "colab_type": "code",
        "colab": {
          "base_uri": "https://localhost:8080/",
          "height": 34
        },
        "outputId": "48aee2c4-e732-45a8-891d-3ce5d130cb56"
      },
      "source": [
        "unique_apps= len(gps[\"App\"].unique())\n",
        "unique_cat= len(gps[\"Category\"].unique())\n",
        "print(unique_apps,unique_cat)"
      ],
      "execution_count": null,
      "outputs": [
        {
          "output_type": "stream",
          "text": [
            "9660 34\n"
          ],
          "name": "stdout"
        }
      ]
    },
    {
      "cell_type": "markdown",
      "metadata": {
        "id": "wuxLbuerUVV4",
        "colab_type": "text"
      },
      "source": [
        "so we have 9660 unique apps which are of 34 different categories.\n",
        "\n",
        "\n"
      ]
    },
    {
      "cell_type": "code",
      "metadata": {
        "id": "2vxYEOBPUikc",
        "colab_type": "code",
        "colab": {
          "base_uri": "https://localhost:8080/",
          "height": 34
        },
        "outputId": "c7969bd2-279b-429c-ee6d-dceab42899b3"
      },
      "source": [
        "gps.drop_duplicates(inplace=True)\n",
        "gps.shape"
      ],
      "execution_count": null,
      "outputs": [
        {
          "output_type": "execute_result",
          "data": {
            "text/plain": [
              "(10358, 13)"
            ]
          },
          "metadata": {
            "tags": []
          },
          "execution_count": 5
        }
      ]
    },
    {
      "cell_type": "code",
      "metadata": {
        "id": "gk4aO5gAZMkq",
        "colab_type": "code",
        "colab": {
          "base_uri": "https://localhost:8080/",
          "height": 255
        },
        "outputId": "f9a41d3d-5e7e-4d75-8a79-c1b742d2c811"
      },
      "source": [
        "gps.isnull().sum()"
      ],
      "execution_count": null,
      "outputs": [
        {
          "output_type": "execute_result",
          "data": {
            "text/plain": [
              "App                  0\n",
              "Category             0\n",
              "Rating            1465\n",
              "Reviews              0\n",
              "Size                 0\n",
              "Installs             0\n",
              "Type                 1\n",
              "Price                0\n",
              "Content Rating       1\n",
              "Genres               0\n",
              "Last Updated         0\n",
              "Current Ver          8\n",
              "Android Ver          3\n",
              "dtype: int64"
            ]
          },
          "metadata": {
            "tags": []
          },
          "execution_count": 6
        }
      ]
    },
    {
      "cell_type": "markdown",
      "metadata": {
        "id": "MOKgSlagZ3hn",
        "colab_type": "text"
      },
      "source": [
        "We found 1465 apps doesnt have rating or have NA value. Only rating has major misisng data and type,content_rating and versions have very few missing values. So now we can use simple imputer to replace NaN values for rating column and lets drop all other rows which has NaN values"
      ]
    },
    {
      "cell_type": "code",
      "metadata": {
        "id": "Mu6OyZqPZ1VV",
        "colab_type": "code",
        "colab": {
          "base_uri": "https://localhost:8080/",
          "height": 476
        },
        "outputId": "fcaa82ad-fdde-4967-a8f5-4b8738f92e2a"
      },
      "source": [
        "from sklearn.impute import SimpleImputer\n",
        "\n",
        "imputer=SimpleImputer()\n",
        "\n",
        "gps['Rating']=imputer.fit_transform(gps[['Rating']])\n",
        "print(gps.isnull().sum())\n",
        "\n",
        "print(\" lets round the rating column upto one decimal\")\n",
        "gps['Rating']=gps['Rating'].round(1)\n",
        "gps['Rating']\n"
      ],
      "execution_count": null,
      "outputs": [
        {
          "output_type": "stream",
          "text": [
            "App               0\n",
            "Category          0\n",
            "Rating            0\n",
            "Reviews           0\n",
            "Size              0\n",
            "Installs          0\n",
            "Type              1\n",
            "Price             0\n",
            "Content Rating    1\n",
            "Genres            0\n",
            "Last Updated      0\n",
            "Current Ver       8\n",
            "Android Ver       3\n",
            "dtype: int64\n",
            " lets round the rating column upto one decimal\n"
          ],
          "name": "stdout"
        },
        {
          "output_type": "execute_result",
          "data": {
            "text/plain": [
              "0        4.1\n",
              "1        3.9\n",
              "2        4.7\n",
              "3        4.5\n",
              "4        4.3\n",
              "        ... \n",
              "10836    4.5\n",
              "10837    5.0\n",
              "10838    4.2\n",
              "10839    4.5\n",
              "10840    4.5\n",
              "Name: Rating, Length: 10358, dtype: float64"
            ]
          },
          "metadata": {
            "tags": []
          },
          "execution_count": 7
        }
      ]
    },
    {
      "cell_type": "markdown",
      "metadata": {
        "id": "_L_4cpj2CfJQ",
        "colab_type": "text"
      },
      "source": [
        "Now Rating column has no more empty values. Let us drop all other emtpy value rows in the data."
      ]
    },
    {
      "cell_type": "code",
      "metadata": {
        "id": "zv-lcWfACX5Z",
        "colab_type": "code",
        "colab": {
          "base_uri": "https://localhost:8080/",
          "height": 272
        },
        "outputId": "0f257da2-ddd5-493c-a562-b818c9bf7743"
      },
      "source": [
        "gps.dropna(inplace=True)\n",
        "print(gps.isnull().sum())\n",
        "print(gps.shape)"
      ],
      "execution_count": null,
      "outputs": [
        {
          "output_type": "stream",
          "text": [
            "App               0\n",
            "Category          0\n",
            "Rating            0\n",
            "Reviews           0\n",
            "Size              0\n",
            "Installs          0\n",
            "Type              0\n",
            "Price             0\n",
            "Content Rating    0\n",
            "Genres            0\n",
            "Last Updated      0\n",
            "Current Ver       0\n",
            "Android Ver       0\n",
            "dtype: int64\n",
            "(10346, 13)\n"
          ],
          "name": "stdout"
        }
      ]
    },
    {
      "cell_type": "markdown",
      "metadata": {
        "id": "C-VYpZT6DH2Y",
        "colab_type": "text"
      },
      "source": [
        "Now let us consider the data types of different columns. \n"
      ]
    },
    {
      "cell_type": "code",
      "metadata": {
        "id": "RXEpEBbkDelE",
        "colab_type": "code",
        "colab": {
          "base_uri": "https://localhost:8080/",
          "height": 51
        },
        "outputId": "dd72c42a-87af-4f31-ab82-7413688153c8"
      },
      "source": [
        "gps.head(5)\n",
        "\n",
        "print(gps['Content Rating'].unique())\n",
        "print(gps['Type'].unique())"
      ],
      "execution_count": null,
      "outputs": [
        {
          "output_type": "stream",
          "text": [
            "['Everyone' 'Teen' 'Everyone 10+' 'Mature 17+' 'Adults only 18+' 'Unrated']\n",
            "['Free' 'Paid']\n"
          ],
          "name": "stdout"
        }
      ]
    },
    {
      "cell_type": "code",
      "metadata": {
        "id": "UYopsYdvGRoZ",
        "colab_type": "code",
        "colab": {}
      },
      "source": [
        "# Data cleaning for size column\n",
        "\n",
        "#removing m from size column\n",
        "gps['Size'] = gps['Size'].map(lambda x: x.rstrip('M'))\n",
        "gps['Size'] = gps['Size'].map(lambda x: str(round((float(x.rstrip('k'))/1024), 1)) if x[-1]=='k' else x)\n",
        "\n",
        "#data has values 'Varies with device' so changing this value into '0'.\n",
        "gps.loc[gps['Size']=='Varies with device','Size']=0"
      ],
      "execution_count": null,
      "outputs": []
    },
    {
      "cell_type": "code",
      "metadata": {
        "id": "8G7NRnO9B0O4",
        "colab_type": "code",
        "colab": {}
      },
      "source": [
        "# Data cleaning for Installs column\n",
        "\n",
        "#removing '+' value from installs column\n",
        "gps['Installs']= gps['Installs'].map(lambda x: x.rstrip('+'))\n",
        "#removing ',' value from installs column\n",
        "gps['Installs']=gps['Installs'].map(lambda x:''.join(x.split(',')))"
      ],
      "execution_count": null,
      "outputs": []
    },
    {
      "cell_type": "code",
      "metadata": {
        "id": "e8bqBNBjFDDm",
        "colab_type": "code",
        "colab": {}
      },
      "source": [
        "#Data cleaning for \"Price\" column\n",
        "gps['Price']= gps['Price'].map(lambda x: x.strip('$'))"
      ],
      "execution_count": null,
      "outputs": []
    },
    {
      "cell_type": "code",
      "metadata": {
        "id": "UP8_HA2fOQnZ",
        "colab_type": "code",
        "colab": {}
      },
      "source": [
        "gps['Price']= pd.to_numeric(gps['Price'])\n",
        "gps['Installs']=pd.to_numeric(gps['Installs'])\n",
        "gps['Size']=pd.to_numeric(gps['Size'])"
      ],
      "execution_count": null,
      "outputs": []
    },
    {
      "cell_type": "markdown",
      "metadata": {
        "id": "ZvoTT7zyfBMr",
        "colab_type": "text"
      },
      "source": [
        ""
      ]
    },
    {
      "cell_type": "code",
      "metadata": {
        "id": "B0hHZeDVUHdk",
        "colab_type": "code",
        "colab": {
          "base_uri": "https://localhost:8080/",
          "height": 119
        },
        "outputId": "25a0790e-6971-4fe6-e81b-54db7464352e"
      },
      "source": [
        "from sklearn.preprocessing import LabelEncoder\n",
        "\n",
        "le=LabelEncoder()\n",
        "\n",
        "#creating numeric content for content rating column\n",
        "\n",
        "gps['Content Rating num']= le.fit_transform(gps['Content Rating'])\n",
        "\n",
        "dict_Content_Rating = {}\n",
        "val = 0\n",
        "for i in gps[\"Content Rating\"].unique():\n",
        " dict_Content_Rating[i] = val\n",
        " val += 1\n",
        "\n",
        "dict_Content_Rating"
      ],
      "execution_count": null,
      "outputs": [
        {
          "output_type": "execute_result",
          "data": {
            "text/plain": [
              "{'Adults only 18+': 4,\n",
              " 'Everyone': 0,\n",
              " 'Everyone 10+': 2,\n",
              " 'Mature 17+': 3,\n",
              " 'Teen': 1,\n",
              " 'Unrated': 5}"
            ]
          },
          "metadata": {
            "tags": []
          },
          "execution_count": 14
        }
      ]
    },
    {
      "cell_type": "code",
      "metadata": {
        "id": "rnEohlq9ijQy",
        "colab_type": "code",
        "colab": {
          "base_uri": "https://localhost:8080/",
          "height": 578
        },
        "outputId": "45c86156-825a-4736-8cd7-9f0a18e029ef"
      },
      "source": [
        "#creating numeric content for category column\n",
        "\n",
        "gps['Category Num']= le.fit_transform(gps['Category'])\n",
        "\n",
        "dict_Category = {}\n",
        "val = 0\n",
        "for i in gps[\"Category\"].unique():\n",
        " dict_Category[i] = val\n",
        " val += 1\n",
        "\n",
        "dict_Category"
      ],
      "execution_count": null,
      "outputs": [
        {
          "output_type": "execute_result",
          "data": {
            "text/plain": [
              "{'ART_AND_DESIGN': 0,\n",
              " 'AUTO_AND_VEHICLES': 1,\n",
              " 'BEAUTY': 2,\n",
              " 'BOOKS_AND_REFERENCE': 3,\n",
              " 'BUSINESS': 4,\n",
              " 'COMICS': 5,\n",
              " 'COMMUNICATION': 6,\n",
              " 'DATING': 7,\n",
              " 'EDUCATION': 8,\n",
              " 'ENTERTAINMENT': 9,\n",
              " 'EVENTS': 10,\n",
              " 'FAMILY': 18,\n",
              " 'FINANCE': 11,\n",
              " 'FOOD_AND_DRINK': 12,\n",
              " 'GAME': 17,\n",
              " 'HEALTH_AND_FITNESS': 13,\n",
              " 'HOUSE_AND_HOME': 14,\n",
              " 'LIBRARIES_AND_DEMO': 15,\n",
              " 'LIFESTYLE': 16,\n",
              " 'MAPS_AND_NAVIGATION': 32,\n",
              " 'MEDICAL': 19,\n",
              " 'NEWS_AND_MAGAZINES': 31,\n",
              " 'PARENTING': 28,\n",
              " 'PERSONALIZATION': 26,\n",
              " 'PHOTOGRAPHY': 22,\n",
              " 'PRODUCTIVITY': 27,\n",
              " 'SHOPPING': 21,\n",
              " 'SOCIAL': 20,\n",
              " 'SPORTS': 23,\n",
              " 'TOOLS': 25,\n",
              " 'TRAVEL_AND_LOCAL': 24,\n",
              " 'VIDEO_PLAYERS': 30,\n",
              " 'WEATHER': 29}"
            ]
          },
          "metadata": {
            "tags": []
          },
          "execution_count": 15
        }
      ]
    },
    {
      "cell_type": "markdown",
      "metadata": {
        "id": "AG2H3GKIj-oh",
        "colab_type": "text"
      },
      "source": [
        "#Data Analysis"
      ]
    },
    {
      "cell_type": "markdown",
      "metadata": {
        "id": "hftCERhMopuB",
        "colab_type": "text"
      },
      "source": [
        "Now we can start analysis by plotting multiple plots\n"
      ]
    },
    {
      "cell_type": "code",
      "metadata": {
        "id": "ScVA0U_Co6bf",
        "colab_type": "code",
        "colab": {
          "base_uri": "https://localhost:8080/",
          "height": 595
        },
        "outputId": "6eb397b7-840f-4ce1-effe-d7876913bae5"
      },
      "source": [
        "gps.Category.value_counts()"
      ],
      "execution_count": null,
      "outputs": [
        {
          "output_type": "execute_result",
          "data": {
            "text/plain": [
              "FAMILY                 1939\n",
              "GAME                   1121\n",
              "TOOLS                   841\n",
              "BUSINESS                427\n",
              "MEDICAL                 408\n",
              "PRODUCTIVITY            407\n",
              "PERSONALIZATION         386\n",
              "LIFESTYLE               373\n",
              "COMMUNICATION           366\n",
              "FINANCE                 360\n",
              "SPORTS                  351\n",
              "PHOTOGRAPHY             322\n",
              "HEALTH_AND_FITNESS      306\n",
              "SOCIAL                  280\n",
              "NEWS_AND_MAGAZINES      264\n",
              "TRAVEL_AND_LOCAL        237\n",
              "BOOKS_AND_REFERENCE     229\n",
              "SHOPPING                224\n",
              "DATING                  196\n",
              "VIDEO_PLAYERS           175\n",
              "MAPS_AND_NAVIGATION     137\n",
              "EDUCATION               130\n",
              "FOOD_AND_DRINK          124\n",
              "ENTERTAINMENT           111\n",
              "AUTO_AND_VEHICLES        85\n",
              "LIBRARIES_AND_DEMO       84\n",
              "WEATHER                  82\n",
              "HOUSE_AND_HOME           80\n",
              "EVENTS                   64\n",
              "ART_AND_DESIGN           64\n",
              "COMICS                   60\n",
              "PARENTING                60\n",
              "BEAUTY                   53\n",
              "Name: Category, dtype: int64"
            ]
          },
          "metadata": {
            "tags": []
          },
          "execution_count": 16
        }
      ]
    },
    {
      "cell_type": "code",
      "metadata": {
        "id": "pA7z3kKUkneg",
        "colab_type": "code",
        "colab": {
          "base_uri": "https://localhost:8080/",
          "height": 500
        },
        "outputId": "8d4a6651-79bb-48f5-b569-d01b86676bf5"
      },
      "source": [
        "gps.Category.value_counts().plot(kind='barh' ,figsize= (12,8))"
      ],
      "execution_count": null,
      "outputs": [
        {
          "output_type": "execute_result",
          "data": {
            "text/plain": [
              "<matplotlib.axes._subplots.AxesSubplot at 0x7fe078656f60>"
            ]
          },
          "metadata": {
            "tags": []
          },
          "execution_count": 17
        },
        {
          "output_type": "display_data",
          "data": {
            "image/png": "[encoded data removed]",
            "text/plain": [
              "<Figure size 864x576 with 1 Axes>"
            ]
          },
          "metadata": {
            "tags": [],
            "needs_background": "light"
          }
        }
      ]
    },
    {
      "cell_type": "markdown",
      "metadata": {
        "id": "Ue5widaS8kAT",
        "colab_type": "text"
      },
      "source": [
        "By the above plot, we can find that apps with category FAMILY, GAME, TOOLS, BUSINESS, MEDICAL, PRODUCTIVITY, PERSONALIZATION, LIFESTYLE, COMMUNICATION, FINANCE, SPORTS has more than half share in the entire repository. \n",
        "x \n",
        "\n",
        "Key takeaways are :\n",
        "\n",
        "  1. We have family apps category more than games and tools. Let us see how installs are for this category. By this we can find out why developers are interested in this category more and how people are receiving this catergory.\n",
        "  2. We have more dating apps than food and drink, education, entertainment.\n",
        "  3. Although we have a lot of e-commerce boom, we find shopping apps are less than travel and local, social, health, and fitness. It indicates the dominance of major companies in this sector that leads to less competition.\n",
        "  4. Another compelling app category is medical. It has the 4th position. We can observe what kind of services provided through these apps and how much people are interested in online medical services.\n",
        "  5. communication, productivity, lifestyle, health, and fitness, personalization are apps that concentrate on self-development. We can find out the no.of  installs per category apps to know the trend which people are giving importance."
      ]
    },
    {
      "cell_type": "code",
      "metadata": {
        "id": "han1KifplG84",
        "colab_type": "code",
        "colab": {
          "base_uri": "https://localhost:8080/",
          "height": 651
        },
        "outputId": "5027ee0f-743d-4251-c343-f63d526d8205"
      },
      "source": [
        "sns.catplot(y='Rating',x='Category',data=gps,hue='Rating')"
      ],
      "execution_count": null,
      "outputs": [
        {
          "output_type": "execute_result",
          "data": {
            "text/plain": [
              "<seaborn.axisgrid.FacetGrid at 0x7fe07571e518>"
            ]
          },
          "metadata": {
            "tags": []
          },
          "execution_count": 20
        },
        {
          "output_type": "display_data",
          "data": {
            "image/png": "[encoded data removed]",
            "text/plain": [
              "<Figure size 412x360 with 1 Axes>"
            ]
          },
          "metadata": {
            "tags": [],
            "needs_background": "light"
          }
        }
      ]
    },
    {
      "cell_type": "code",
      "metadata": {
        "id": "M1RtgokhH7RU",
        "colab_type": "code",
        "colab": {
          "base_uri": "https://localhost:8080/",
          "height": 623
        },
        "outputId": "9a92492d-ba63-4c53-98a1-a972d8fa2271"
      },
      "source": [
        ""
      ],
      "execution_count": null,
      "outputs": [
        {
          "output_type": "execute_result",
          "data": {
            "text/html": [
              "<div>\n",
              "<style scoped>\n",
              "    .dataframe tbody tr th:only-of-type {\n",
              "        vertical-align: middle;\n",
              "    }\n",
              "\n",
              "    .dataframe tbody tr th {\n",
              "        vertical-align: top;\n",
              "    }\n",
              "\n",
              "    .dataframe thead th {\n",
              "        text-align: right;\n",
              "    }\n",
              "</style>\n",
              "<table border=\"1\" class=\"dataframe\">\n",
              "  <thead>\n",
              "    <tr style=\"text-align: right;\">\n",
              "      <th></th>\n",
              "      <th>App</th>\n",
              "      <th>Category</th>\n",
              "      <th>Rating</th>\n",
              "      <th>Reviews</th>\n",
              "      <th>Size</th>\n",
              "      <th>Installs</th>\n",
              "      <th>Type</th>\n",
              "      <th>Price</th>\n",
              "      <th>Content Rating</th>\n",
              "      <th>Genres</th>\n",
              "      <th>Last Updated</th>\n",
              "      <th>Current Ver</th>\n",
              "      <th>Android Ver</th>\n",
              "      <th>Content Rating num</th>\n",
              "      <th>Category Num</th>\n",
              "    </tr>\n",
              "  </thead>\n",
              "  <tbody>\n",
              "    <tr>\n",
              "      <th>0</th>\n",
              "      <td>Photo Editor &amp; Candy Camera &amp; Grid &amp; ScrapBook</td>\n",
              "      <td>ART_AND_DESIGN</td>\n",
              "      <td>4.1</td>\n",
              "      <td>159</td>\n",
              "      <td>19.0</td>\n",
              "      <td>10000</td>\n",
              "      <td>Free</td>\n",
              "      <td>0.0</td>\n",
              "      <td>Everyone</td>\n",
              "      <td>Art &amp; Design</td>\n",
              "      <td>January 7, 2018</td>\n",
              "      <td>1.0.0</td>\n",
              "      <td>4.0.3 and up</td>\n",
              "      <td>1</td>\n",
              "      <td>0</td>\n",
              "    </tr>\n",
              "    <tr>\n",
              "      <th>1</th>\n",
              "      <td>Coloring book moana</td>\n",
              "      <td>ART_AND_DESIGN</td>\n",
              "      <td>3.9</td>\n",
              "      <td>967</td>\n",
              "      <td>14.0</td>\n",
              "      <td>500000</td>\n",
              "      <td>Free</td>\n",
              "      <td>0.0</td>\n",
              "      <td>Everyone</td>\n",
              "      <td>Art &amp; Design;Pretend Play</td>\n",
              "      <td>January 15, 2018</td>\n",
              "      <td>2.0.0</td>\n",
              "      <td>4.0.3 and up</td>\n",
              "      <td>1</td>\n",
              "      <td>0</td>\n",
              "    </tr>\n",
              "    <tr>\n",
              "      <th>2</th>\n",
              "      <td>U Launcher Lite – FREE Live Cool Themes, Hide ...</td>\n",
              "      <td>ART_AND_DESIGN</td>\n",
              "      <td>4.7</td>\n",
              "      <td>87510</td>\n",
              "      <td>8.7</td>\n",
              "      <td>5000000</td>\n",
              "      <td>Free</td>\n",
              "      <td>0.0</td>\n",
              "      <td>Everyone</td>\n",
              "      <td>Art &amp; Design</td>\n",
              "      <td>August 1, 2018</td>\n",
              "      <td>1.2.4</td>\n",
              "      <td>4.0.3 and up</td>\n",
              "      <td>1</td>\n",
              "      <td>0</td>\n",
              "    </tr>\n",
              "    <tr>\n",
              "      <th>3</th>\n",
              "      <td>Sketch - Draw &amp; Paint</td>\n",
              "      <td>ART_AND_DESIGN</td>\n",
              "      <td>4.5</td>\n",
              "      <td>215644</td>\n",
              "      <td>25.0</td>\n",
              "      <td>50000000</td>\n",
              "      <td>Free</td>\n",
              "      <td>0.0</td>\n",
              "      <td>Teen</td>\n",
              "      <td>Art &amp; Design</td>\n",
              "      <td>June 8, 2018</td>\n",
              "      <td>Varies with device</td>\n",
              "      <td>4.2 and up</td>\n",
              "      <td>4</td>\n",
              "      <td>0</td>\n",
              "    </tr>\n",
              "    <tr>\n",
              "      <th>4</th>\n",
              "      <td>Pixel Draw - Number Art Coloring Book</td>\n",
              "      <td>ART_AND_DESIGN</td>\n",
              "      <td>4.3</td>\n",
              "      <td>967</td>\n",
              "      <td>2.8</td>\n",
              "      <td>100000</td>\n",
              "      <td>Free</td>\n",
              "      <td>0.0</td>\n",
              "      <td>Everyone</td>\n",
              "      <td>Art &amp; Design;Creativity</td>\n",
              "      <td>June 20, 2018</td>\n",
              "      <td>1.1</td>\n",
              "      <td>4.4 and up</td>\n",
              "      <td>1</td>\n",
              "      <td>0</td>\n",
              "    </tr>\n",
              "    <tr>\n",
              "      <th>...</th>\n",
              "      <td>...</td>\n",
              "      <td>...</td>\n",
              "      <td>...</td>\n",
              "      <td>...</td>\n",
              "      <td>...</td>\n",
              "      <td>...</td>\n",
              "      <td>...</td>\n",
              "      <td>...</td>\n",
              "      <td>...</td>\n",
              "      <td>...</td>\n",
              "      <td>...</td>\n",
              "      <td>...</td>\n",
              "      <td>...</td>\n",
              "      <td>...</td>\n",
              "      <td>...</td>\n",
              "    </tr>\n",
              "    <tr>\n",
              "      <th>10836</th>\n",
              "      <td>Sya9a Maroc - FR</td>\n",
              "      <td>FAMILY</td>\n",
              "      <td>4.5</td>\n",
              "      <td>38</td>\n",
              "      <td>53.0</td>\n",
              "      <td>5000</td>\n",
              "      <td>Free</td>\n",
              "      <td>0.0</td>\n",
              "      <td>Everyone</td>\n",
              "      <td>Education</td>\n",
              "      <td>July 25, 2017</td>\n",
              "      <td>1.48</td>\n",
              "      <td>4.1 and up</td>\n",
              "      <td>1</td>\n",
              "      <td>11</td>\n",
              "    </tr>\n",
              "    <tr>\n",
              "      <th>10837</th>\n",
              "      <td>Fr. Mike Schmitz Audio Teachings</td>\n",
              "      <td>FAMILY</td>\n",
              "      <td>5.0</td>\n",
              "      <td>4</td>\n",
              "      <td>3.6</td>\n",
              "      <td>100</td>\n",
              "      <td>Free</td>\n",
              "      <td>0.0</td>\n",
              "      <td>Everyone</td>\n",
              "      <td>Education</td>\n",
              "      <td>July 6, 2018</td>\n",
              "      <td>1.0</td>\n",
              "      <td>4.1 and up</td>\n",
              "      <td>1</td>\n",
              "      <td>11</td>\n",
              "    </tr>\n",
              "    <tr>\n",
              "      <th>10838</th>\n",
              "      <td>Parkinson Exercices FR</td>\n",
              "      <td>MEDICAL</td>\n",
              "      <td>4.2</td>\n",
              "      <td>3</td>\n",
              "      <td>9.5</td>\n",
              "      <td>1000</td>\n",
              "      <td>Free</td>\n",
              "      <td>0.0</td>\n",
              "      <td>Everyone</td>\n",
              "      <td>Medical</td>\n",
              "      <td>January 20, 2017</td>\n",
              "      <td>1.0</td>\n",
              "      <td>2.2 and up</td>\n",
              "      <td>1</td>\n",
              "      <td>20</td>\n",
              "    </tr>\n",
              "    <tr>\n",
              "      <th>10839</th>\n",
              "      <td>The SCP Foundation DB fr nn5n</td>\n",
              "      <td>BOOKS_AND_REFERENCE</td>\n",
              "      <td>4.5</td>\n",
              "      <td>114</td>\n",
              "      <td>0.0</td>\n",
              "      <td>1000</td>\n",
              "      <td>Free</td>\n",
              "      <td>0.0</td>\n",
              "      <td>Mature 17+</td>\n",
              "      <td>Books &amp; Reference</td>\n",
              "      <td>January 19, 2015</td>\n",
              "      <td>Varies with device</td>\n",
              "      <td>Varies with device</td>\n",
              "      <td>3</td>\n",
              "      <td>3</td>\n",
              "    </tr>\n",
              "    <tr>\n",
              "      <th>10840</th>\n",
              "      <td>iHoroscope - 2018 Daily Horoscope &amp; Astrology</td>\n",
              "      <td>LIFESTYLE</td>\n",
              "      <td>4.5</td>\n",
              "      <td>398307</td>\n",
              "      <td>19.0</td>\n",
              "      <td>10000000</td>\n",
              "      <td>Free</td>\n",
              "      <td>0.0</td>\n",
              "      <td>Everyone</td>\n",
              "      <td>Lifestyle</td>\n",
              "      <td>July 25, 2018</td>\n",
              "      <td>Varies with device</td>\n",
              "      <td>Varies with device</td>\n",
              "      <td>1</td>\n",
              "      <td>18</td>\n",
              "    </tr>\n",
              "  </tbody>\n",
              "</table>\n",
              "<p>10346 rows × 15 columns</p>\n",
              "</div>"
            ],
            "text/plain": [
              "                                                     App  ... Category Num\n",
              "0         Photo Editor & Candy Camera & Grid & ScrapBook  ...            0\n",
              "1                                    Coloring book moana  ...            0\n",
              "2      U Launcher Lite – FREE Live Cool Themes, Hide ...  ...            0\n",
              "3                                  Sketch - Draw & Paint  ...            0\n",
              "4                  Pixel Draw - Number Art Coloring Book  ...            0\n",
              "...                                                  ...  ...          ...\n",
              "10836                                   Sya9a Maroc - FR  ...           11\n",
              "10837                   Fr. Mike Schmitz Audio Teachings  ...           11\n",
              "10838                             Parkinson Exercices FR  ...           20\n",
              "10839                      The SCP Foundation DB fr nn5n  ...            3\n",
              "10840      iHoroscope - 2018 Daily Horoscope & Astrology  ...           18\n",
              "\n",
              "[10346 rows x 15 columns]"
            ]
          },
          "metadata": {
            "tags": []
          },
          "execution_count": 21
        }
      ]
    }
  ]
}